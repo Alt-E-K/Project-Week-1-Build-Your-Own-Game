{
 "cells": [
  {
   "cell_type": "markdown",
   "metadata": {},
   "source": [
    "# Project 1 Notes"
   ]
  },
  {
   "cell_type": "markdown",
   "metadata": {},
   "source": [
    "You have to have a .gitignore file on your repo for files that MUST be ignored when uploading to github.\n",
    "https://www.toptal.com/developers/gitignore?templates=android\n",
    "You go to that page and add the tags for the programs you think you will using.\n",
    "\n",
    "You create the file in the folder you cloned, and you paste the result from the page. Then you write the full names of the files you want to ignore, also of a folder.\n",
    "\n",
    "It is essentially the same as not adding files to the staging area, but point is that it ignores more things than the ones you would be able to ignore, so files that are hidden, that run in the background like checkpoints and all. This takes all that unnecesary shit out so you do not upload it to github."
   ]
  },
  {
   "cell_type": "markdown",
   "metadata": {},
   "source": [
    "We need to create a game that encodes and decodes the input that the player gives it. So you need to figure out a cool way to encode and decode, so most likely the game will have to main blocks.\n",
    "\n",
    " step 1: desing your algorithm.\n",
    " \n",
    " We can move each letter -7 places (V), then transform to binary, then ASCII (maybe we can skip the binary if it is too difficult)\n",
    " \n",
    " step2: how the fuck would you could this?\n",
    "  1. you need all the alfanumerical characters in a dictionary, with their transformation. The key needs to be the actual letter and the value, the first transformation.DONE\n",
    "  2. now we have all the equivalences in a dictionary, we iterate again, transformin the values to ASCII, so this is the 'definitive encription code' DONE\n",
    "  3. Now we need to actually implement a system that\n",
    "          -  controls the input the user is able to introduce to reduce errors.    \n",
    "          -  translates the message from vernacular to our encoding version\n",
    "          -  another one to decode it back again DONE\n",
    "  4. We now need to put all the pieces toghether in a way that allows for user interaction, it would be cool to also control   for errors here. DONE\n",
    "  5. Okay now really think abput shit that could break the program like:\n",
    "          -inputing something other than encode, decode ( the loop is made to keep asking you for the correct input)\n",
    "          -the message to be decoded being in another code!\n",
    "          "
   ]
  },
  {
   "cell_type": "markdown",
   "metadata": {},
   "source": []
  },
  {
   "cell_type": "markdown",
   "metadata": {},
   "source": [
    "give a password when you encode the message that you can use when you decode?\n",
    "maybe a security question? but it is quite crazy to have many security questions and answers stored and asigning them at random(maybe there is a module for that)\n",
    " "
   ]
  },
  {
   "cell_type": "code",
   "execution_count": null,
   "metadata": {},
   "outputs": [],
   "source": []
  }
 ],
 "metadata": {
  "kernelspec": {
   "display_name": "Python 3",
   "language": "python",
   "name": "python3"
  },
  "language_info": {
   "codemirror_mode": {
    "name": "ipython",
    "version": 3
   },
   "file_extension": ".py",
   "mimetype": "text/x-python",
   "name": "python",
   "nbconvert_exporter": "python",
   "pygments_lexer": "ipython3",
   "version": "3.7.6"
  }
 },
 "nbformat": 4,
 "nbformat_minor": 4
}
