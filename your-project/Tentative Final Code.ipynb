{
 "cells": [
  {
   "cell_type": "code",
   "execution_count": 2,
   "metadata": {},
   "outputs": [],
   "source": [
    "import string \n",
    "char_list=list(string.printable)\n"
   ]
  },
  {
   "cell_type": "code",
   "execution_count": 3,
   "metadata": {},
   "outputs": [],
   "source": [
    "def first_encoding(x):\n",
    "    encoding_dict1 = {}\n",
    "    for index, item in enumerate(x):\n",
    "        encoding_dict1[item]=char_list[index-7]\n",
    "    return encoding_dict1\n",
    "\n",
    "encode_phase1=first_encoding(char_list)\n"
   ]
  },
  {
   "cell_type": "code",
   "execution_count": 4,
   "metadata": {},
   "outputs": [],
   "source": [
    "def second_encoding(x):\n",
    "    encoding_dict2 = {}\n",
    "    for pair in x:\n",
    "        char=x.get(pair[0])\n",
    "        new_char= ord(char)\n",
    "        encoding_dict2[pair[0]]=new_char\n",
    "    return encoding_dict2\n",
    "\n",
    "encode_phase2=second_encoding(encode_phase1)\n"
   ]
  },
  {
   "cell_type": "code",
   "execution_count": 5,
   "metadata": {},
   "outputs": [],
   "source": [
    "def same_lenght_version(x):\n",
    "    encoding_dict3 = {}\n",
    "    for pair in x:\n",
    "        char=str(x.get(pair[0]))\n",
    "        if len(char) == 2:\n",
    "            new_char=char+'@'\n",
    "        elif len(char) == 1:\n",
    "            new_char=char+'*/'\n",
    "        else:\n",
    "            new_char=char\n",
    "        encoding_dict3[pair[0]]=new_char\n",
    "    return encoding_dict3\n",
    "\n",
    "encode_phase3=same_lenght_version(encode_phase2)\n"
   ]
  },
  {
   "cell_type": "code",
   "execution_count": 6,
   "metadata": {},
   "outputs": [],
   "source": [
    "def cheat_decoding(x):\n",
    "    decoding_dict3 = {}\n",
    "    for item in (x):\n",
    "        old_v=x.get(item[0])\n",
    "        decoding_dict3[old_v]=item[0]\n",
    "    return decoding_dict3\n",
    "\n",
    "decoded_dict=cheat_decoding(encode_phase3)\n"
   ]
  },
  {
   "cell_type": "code",
   "execution_count": 7,
   "metadata": {},
   "outputs": [
    {
     "ename": "SyntaxError",
     "evalue": "Missing parentheses in call to 'print'. Did you mean print(joined_str)? (<ipython-input-7-dae62c0ffe01>, line 11)",
     "output_type": "error",
     "traceback": [
      "\u001b[1;36m  File \u001b[1;32m\"<ipython-input-7-dae62c0ffe01>\"\u001b[1;36m, line \u001b[1;32m11\u001b[0m\n\u001b[1;33m    print joined_str\u001b[0m\n\u001b[1;37m                   ^\u001b[0m\n\u001b[1;31mSyntaxError\u001b[0m\u001b[1;31m:\u001b[0m Missing parentheses in call to 'print'. Did you mean print(joined_str)?\n"
     ]
    }
   ],
   "source": [
    "def ultimate_encoder():\n",
    "    new_list=[]\n",
    "    message=input('Please introduce the message for encoding: ')\n",
    "    for i in message:\n",
    "        #here we can change the encryption level by changing the dictionary from wich we encode, so the code is flexible\n",
    "        new_char=encode_phase3.get(i)\n",
    "        new_s=str(new_char)\n",
    "        new_list.append(new_s)\n",
    "        joined_str = (\"\".join(new_list))\n",
    "    #return joined_str\n",
    "    print joined_str"
   ]
  },
  {
   "cell_type": "code",
   "execution_count": null,
   "metadata": {},
   "outputs": [],
   "source": [
    "def improved_decoder():\n",
    "    broke_down=[]\n",
    "    translated = []\n",
    "    message=str(input('Please introduce the message for decoding:'))\n",
    "    \n",
    "    for i in range(0, len(message), 3):\n",
    "        char=message[i:i+3]\n",
    "        broke_down.append(char)\n",
    "   \n",
    "    \n",
    "    while message != None:\n",
    "        if set(broke_down).issubset(set(our_dict_list)):\n",
    "            #if it is it will proceed to translate, print and break the loop\n",
    "            for i in broke_down:\n",
    "                tr_char=decoded_dict.get(i)\n",
    "                translated.append(tr_char)\n",
    "                joined_str = (\"\".join(translated))\n",
    "            print(joined_str)\n",
    "            break\n",
    "        else:\n",
    "            message = str(input('We are not able to decode a different encoding algorithm, please introduce a valid code:'))\n",
    "            broke_down = []\n",
    "            for i in range(0, len(message), 3):\n",
    "                char=message[i:i+3]\n",
    "                broke_down.append(char)\n",
    "            \n",
    "            \n",
    "            continue\n",
    "                #this else made sure that when the code wasnt ours you could re input a message to decode and restarted the process\n",
    "                #of breaking it into pieces to check if it was ours once it has made that whole process the continue remits us back\n",
    "                #to the begining of the while loop and the translation process.\n",
    "                #However in the final function we had to change the order of the conditions, because the break from the enclosing\n",
    "                #while loop of the other function needs to break when the translation finishes and it conflicted with this else.\n",
    "\n",
    "                \n",
    "improved_decoder()   "
   ]
  },
  {
   "cell_type": "code",
   "execution_count": 8,
   "metadata": {},
   "outputs": [],
   "source": [
    "def ultimate_decoder():\n",
    "    broke_down=[]\n",
    "    translated = []\n",
    "    message=input('Please introduce the message for decoding:')\n",
    "    for i in range(0, len(message), 3):\n",
    "        char=message[i:i+3] \n",
    "        broke_down.append(char)\n",
    "    print(broke_down)\n",
    "    for i in broke_down:\n",
    "        tr_char=decoded_dict.get(i)\n",
    "        new_tr=tr_char\n",
    "        translated.append(new_tr)\n",
    "        joined_str = (\"\".join(translated))\n",
    "    #return joined_str\n",
    "    print(joined_str)"
   ]
  },
  {
   "cell_type": "code",
   "execution_count": 9,
   "metadata": {},
   "outputs": [],
   "source": [
    "our_dict_list= list(decoded_dict.keys())"
   ]
  },
  {
   "cell_type": "code",
   "execution_count": 10,
   "metadata": {},
   "outputs": [
    {
     "name": "stdout",
     "output_type": "stream",
     "text": [
      "Do you wish to encode or decode?2k3egxk3\n",
      "Please select a valid option:encode\n",
      "Please introduce the message for encoding: que quieres cenar\n",
      "10611055@94@10611098@55@10755@10894@53@55@10351@107\n"
     ]
    }
   ],
   "source": [
    "def built_program():\n",
    "    \n",
    "    answer1=input('Do you wish to encode or decode?')\n",
    "    \n",
    "    while answer1 != None:\n",
    "        \n",
    "        if answer1 == 'encode':\n",
    "            new_list=[]\n",
    "            message=input('Please introduce the message for encoding: ')\n",
    "            for i in message:\n",
    "        #here we can change the encryption level by changing the dictionary from wich we encode, so the code is flexible\n",
    "                new_char=encode_phase3.get(i)\n",
    "                new_s=str(new_char)\n",
    "                new_list.append(new_s)\n",
    "                joined_str = (\"\".join(new_list))\n",
    "    \n",
    "            print(joined_str)\n",
    "            break\n",
    "        \n",
    "        elif answer1 == 'decode':\n",
    "            broke_down=[]\n",
    "            translated = []\n",
    "    \n",
    "            #making sure that all the inputs are strings    \n",
    "            message=str(input('Please introduce the message for decoding:'))\n",
    "\n",
    "    \n",
    "    #breaking the string down into parts to check if we can translate it, then translate it\n",
    "            for i in range(0, len(message), 3):\n",
    "                char=message[i:i+3]\n",
    "                broke_down.append(char)\n",
    "   \n",
    "    #making sure that the input is in OUR encoding method\n",
    "            while message != None:\n",
    "                if not set(broke_down).issubset(set(our_dict_list)):\n",
    "                    message = str(input('We are not able to decode a different encoding algorithm, please introduce a valid code:'))\n",
    "                    broke_down = []\n",
    "                    for i in range(0, len(message), 3):\n",
    "                        char=message[i:i+3]\n",
    "                        broke_down.append(char)\n",
    "                    \n",
    "                    continue\n",
    "                    \n",
    "                \n",
    "                else:\n",
    "                    for i in broke_down:\n",
    "                        tr_char=decoded_dict.get(i)\n",
    "                        translated.append(tr_char)\n",
    "                        joined_str = (\"\".join(translated))\n",
    "                    print(joined_str)\n",
    "                    break\n",
    "            \n",
    "            break\n",
    "                #don't know if the continue is in the right place because the loop that \n",
    "        \n",
    "        else:\n",
    "            answer1=input('Please select a valid option:')\n",
    "            continue\n",
    "            \n",
    "built_program()\n",
    "\n",
    "\n"
   ]
  },
  {
   "cell_type": "code",
   "execution_count": 11,
   "metadata": {},
   "outputs": [
    {
     "name": "stdout",
     "output_type": "stream",
     "text": [
      "Do you wish to encode or decode?decode\n",
      "Please introduce the message for decoding:10611055@94@10611098@55@10755@10894@53@55@10351@107\n",
      "que quieres cenar\n"
     ]
    }
   ],
   "source": [
    "built_program()"
   ]
  },
  {
   "cell_type": "code",
   "execution_count": null,
   "metadata": {},
   "outputs": [],
   "source": []
  },
  {
   "cell_type": "code",
   "execution_count": null,
   "metadata": {},
   "outputs": [],
   "source": []
  }
 ],
 "metadata": {
  "kernelspec": {
   "display_name": "Python 3",
   "language": "python",
   "name": "python3"
  },
  "language_info": {
   "codemirror_mode": {
    "name": "ipython",
    "version": 3
   },
   "file_extension": ".py",
   "mimetype": "text/x-python",
   "name": "python",
   "nbconvert_exporter": "python",
   "pygments_lexer": "ipython3",
   "version": "3.7.6"
  }
 },
 "nbformat": 4,
 "nbformat_minor": 4
}
